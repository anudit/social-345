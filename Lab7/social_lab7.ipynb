{
  "nbformat": 4,
  "nbformat_minor": 0,
  "metadata": {
    "colab": {
      "name": "social-lab7.ipynb",
      "provenance": []
    },
    "kernelspec": {
      "name": "python3",
      "display_name": "Python 3"
    },
    "accelerator": "GPU"
  },
  "cells": [
    {
      "cell_type": "code",
      "metadata": {
        "id": "sq6SxBM92YkT"
      },
      "source": [
        "import networkx as nx \n",
        "import matplotlib.pyplot as plt\n",
        "import collections"
      ],
      "execution_count": 1,
      "outputs": []
    },
    {
      "cell_type": "code",
      "metadata": {
        "id": "eBHSzfVa2h_X"
      },
      "source": [
        "nL = [50000]\n",
        "pL = [0.025, 0.05, 0.075, 0.1]\n",
        "\n",
        "for n in nL:\n",
        "  plt.title(f\"n = {n}\")\n",
        "  plt.ylabel(\"Count\")\n",
        "  plt.xlabel(\"Degree\")\n",
        "  # plt.set_xticks([d for d in deg])\n",
        "  # plt.set_xticklabels(deg)\n",
        "  \n",
        "  for p in pL:\n",
        "    G= nx.erdos_renyi_graph(n, p)\n",
        "    degree_sequence = sorted([d for n, d in G.degree()], reverse=True)\n",
        "    degreeCount = collections.Counter(degree_sequence)\n",
        "    deg, cnt = zip(*degreeCount.items())\n",
        "\n",
        "    plt.plot(deg, cnt, label=f\"p = {p}\")\n",
        "\n",
        "  plt.legend([f\"p = {pi}\" for pi in pL], loc =\"upper right\") \n",
        "  plt.show()\n"
      ],
      "execution_count": null,
      "outputs": []
    }
  ]
}